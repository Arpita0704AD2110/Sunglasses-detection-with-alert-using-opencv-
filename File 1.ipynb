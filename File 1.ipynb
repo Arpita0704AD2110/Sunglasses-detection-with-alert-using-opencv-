{
 "cells": [
  {
   "cell_type": "code",
   "execution_count": null,
   "id": "6ee3b19d",
   "metadata": {},
   "outputs": [],
   "source": [
    "import cv2\n",
    "import matplotlib.pyplot as plt"
   ]
  },
  {
   "cell_type": "code",
   "execution_count": null,
   "id": "f7c8f6d3",
   "metadata": {},
   "outputs": [],
   "source": [
    "img=cv2.imread('arpita.jpeg')"
   ]
  },
  {
   "cell_type": "code",
   "execution_count": null,
   "id": "04082703",
   "metadata": {},
   "outputs": [],
   "source": [
    "img.shape"
   ]
  },
  {
   "cell_type": "code",
   "execution_count": null,
   "id": "49a24a37",
   "metadata": {},
   "outputs": [],
   "source": [
    "plt.imshow(img)"
   ]
  },
  {
   "cell_type": "code",
   "execution_count": null,
   "id": "bb023ab7",
   "metadata": {},
   "outputs": [],
   "source": [
    "while True:\n",
    "    cv2.imshow('result',img)\n",
    "    \n",
    "    if cv2.waitKey(2)==27:\n",
    "        break\n",
    "cv2.destroyAllWindows()"
   ]
  },
  {
   "cell_type": "code",
   "execution_count": null,
   "id": "9456cf60",
   "metadata": {},
   "outputs": [],
   "source": [
    "face_clsfr=cv2.CascadeClassifier('haarcascade_frontalface_default.xml')"
   ]
  },
  {
   "cell_type": "code",
   "execution_count": null,
   "id": "0e751808",
   "metadata": {},
   "outputs": [],
   "source": [
    "while True:\n",
    "    faces=face_clsfr.detectMultiScale(img)\n",
    "    \n",
    "    for x,y,w,h in faces:\n",
    "        cv2.rectangle(img,(x,y),(x+w,y+h),(255,255,255),4)\n",
    "        cv2.imshow('result',img)\n",
    "    \n",
    "        if cv2.waitKey(2)==27:\n",
    "            break\n",
    "cv2.destroyAllWindows()"
   ]
  },
  {
   "cell_type": "code",
   "execution_count": null,
   "id": "d10f30a2",
   "metadata": {},
   "outputs": [],
   "source": [
    "capture=cv2.VideoCapture(0)\n",
    "while True:\n",
    "    flag,img=capture.read()\n",
    "    \n",
    "    if flag:\n",
    "        faces=face_clsfr.detectMultiScale(img)\n",
    "        \n",
    "        for x,y,w,h in faces:\n",
    "            cv2.rectangle(img,(x,y),(x+w,y+h),(255,255,255),4)\n",
    "            cv2.imshow('result',img)\n",
    "            \n",
    "            if cv2.waitKey(2)==27:\n",
    "                break\n",
    "capture.release()\n",
    "cv2.destroyAllWindows()\n"
   ]
  },
  {
   "cell_type": "code",
   "execution_count": null,
   "id": "cc35096a",
   "metadata": {},
   "outputs": [],
   "source": []
  }
 ],
 "metadata": {
  "kernelspec": {
   "display_name": "Python 3 (ipykernel)",
   "language": "python",
   "name": "python3"
  },
  "language_info": {
   "codemirror_mode": {
    "name": "ipython",
    "version": 3
   },
   "file_extension": ".py",
   "mimetype": "text/x-python",
   "name": "python",
   "nbconvert_exporter": "python",
   "pygments_lexer": "ipython3",
   "version": "3.10.9"
  }
 },
 "nbformat": 4,
 "nbformat_minor": 5
}
