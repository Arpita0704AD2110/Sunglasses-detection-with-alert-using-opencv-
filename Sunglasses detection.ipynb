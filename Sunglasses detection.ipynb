{
 "cells": [
  {
   "cell_type": "code",
   "execution_count": null,
   "id": "d47efd28",
   "metadata": {},
   "outputs": [],
   "source": [
    "import numpy as np\n",
    "import cv2\n",
    "from pygame import mixer\n",
    "import time\n",
    "mixer.init()\n",
    "sound = mixer.Sound('beep-01a.wav')"
   ]
  },
  {
   "cell_type": "code",
   "execution_count": null,
   "id": "a88a3e62",
   "metadata": {},
   "outputs": [],
   "source": [
    "with_glasses=np.load('with_glasses.npy')\n",
    "without_glasses=np.load('without_glasses.npy')"
   ]
  },
  {
   "cell_type": "code",
   "execution_count": null,
   "id": "415c620f",
   "metadata": {},
   "outputs": [],
   "source": [
    "with_glasses.shape"
   ]
  },
  {
   "cell_type": "code",
   "execution_count": null,
   "id": "4f136dc9",
   "metadata": {},
   "outputs": [],
   "source": [
    "without_glasses.shape"
   ]
  },
  {
   "cell_type": "code",
   "execution_count": null,
   "id": "9a841c5f",
   "metadata": {},
   "outputs": [],
   "source": [
    "with_glasses=with_glasses.reshape(200,50*50*3)"
   ]
  },
  {
   "cell_type": "code",
   "execution_count": null,
   "id": "d99aa0c3",
   "metadata": {},
   "outputs": [],
   "source": [
    "without_glasses=without_glasses.reshape(201,50*50*3)"
   ]
  },
  {
   "cell_type": "code",
   "execution_count": null,
   "id": "a0423d15",
   "metadata": {},
   "outputs": [],
   "source": [
    "with_glasses.shape"
   ]
  },
  {
   "cell_type": "code",
   "execution_count": null,
   "id": "aabd2db6",
   "metadata": {},
   "outputs": [],
   "source": [
    "without_glasses.shape"
   ]
  },
  {
   "cell_type": "code",
   "execution_count": null,
   "id": "67f1ac0f",
   "metadata": {},
   "outputs": [],
   "source": [
    "X=np.r_[with_glasses,without_glasses]"
   ]
  },
  {
   "cell_type": "code",
   "execution_count": null,
   "id": "e92227ca",
   "metadata": {},
   "outputs": [],
   "source": [
    "X.shape"
   ]
  },
  {
   "cell_type": "code",
   "execution_count": null,
   "id": "a3647820",
   "metadata": {},
   "outputs": [],
   "source": [
    "from numpy import zeros\n",
    "y=np.zeros(X.shape[0])"
   ]
  },
  {
   "cell_type": "code",
   "execution_count": null,
   "id": "10388a5d",
   "metadata": {},
   "outputs": [],
   "source": [
    "y[200:]=1.0"
   ]
  },
  {
   "cell_type": "code",
   "execution_count": null,
   "id": "6dbfb4d8",
   "metadata": {},
   "outputs": [],
   "source": [
    "names={0:'WITH GLASSES',1:'WITHOUT GLASSES'}"
   ]
  },
  {
   "cell_type": "code",
   "execution_count": null,
   "id": "a920da0e",
   "metadata": {},
   "outputs": [],
   "source": [
    "from sklearn.svm import SVC\n",
    "from sklearn.metrics import accuracy_score\n",
    "from sklearn.model_selection import train_test_split "
   ]
  },
  {
   "cell_type": "code",
   "execution_count": null,
   "id": "1f81a89d",
   "metadata": {},
   "outputs": [],
   "source": [
    "x_train,x_test,y_train,y_test = train_test_split(X,y,test_size=0.25)"
   ]
  },
  {
   "cell_type": "code",
   "execution_count": null,
   "id": "278dc79e",
   "metadata": {},
   "outputs": [],
   "source": [
    "x_train.shape"
   ]
  },
  {
   "cell_type": "code",
   "execution_count": null,
   "id": "d72ba4b6",
   "metadata": {},
   "outputs": [],
   "source": [
    "x_test.shape"
   ]
  },
  {
   "cell_type": "code",
   "execution_count": null,
   "id": "ee212d8e",
   "metadata": {},
   "outputs": [],
   "source": [
    "from sklearn.decomposition import PCA\n",
    "from sklearn.linear_model import LogisticRegression"
   ]
  },
  {
   "cell_type": "code",
   "execution_count": null,
   "id": "36069c19",
   "metadata": {},
   "outputs": [],
   "source": [
    "pca = PCA(n_components=3)\n",
    "x_train = pca.fit_transform(x_train)"
   ]
  },
  {
   "cell_type": "code",
   "execution_count": null,
   "id": "c8dbc813",
   "metadata": {},
   "outputs": [],
   "source": [
    "x_train[0]"
   ]
  },
  {
   "cell_type": "code",
   "execution_count": null,
   "id": "1de53ae4",
   "metadata": {},
   "outputs": [],
   "source": [
    "x_train.shape"
   ]
  },
  {
   "cell_type": "code",
   "execution_count": null,
   "id": "19868f33",
   "metadata": {},
   "outputs": [],
   "source": [
    "x_train,x_test,y_train,y_test = train_test_split(X,y,test_size=0.15)"
   ]
  },
  {
   "cell_type": "code",
   "execution_count": null,
   "id": "b543483f",
   "metadata": {},
   "outputs": [],
   "source": [
    "svm=SVC()\n",
    "svm.fit(x_train,y_train)"
   ]
  },
  {
   "cell_type": "code",
   "execution_count": null,
   "id": "a15b28f5",
   "metadata": {},
   "outputs": [],
   "source": [
    "#x_test = pca.transform(x_test)\n",
    "y_pred = svm.predict(x_test)\n",
    "accuracy_score(y_test,y_pred)"
   ]
  },
  {
   "cell_type": "code",
   "execution_count": null,
   "id": "e506c259",
   "metadata": {},
   "outputs": [],
   "source": [
    "haar_data=cv2.CascadeClassifier('haarcascade_frontalface_default.xml')"
   ]
  },
  {
   "cell_type": "code",
   "execution_count": null,
   "id": "020733e8",
   "metadata": {},
   "outputs": [],
   "source": [
    "capture=cv2.VideoCapture(0)\n",
    "data=[]\n",
    "font=cv2.FONT_HERSHEY_COMPLEX\n",
    "while True:\n",
    "    flag,img=capture.read()\n",
    "    \n",
    "    if flag:\n",
    "        faces=haar_data.detectMultiScale(img)\n",
    "        \n",
    "        for x,y,w,h in faces:\n",
    "            cv2.rectangle(img,(x,y),(x+w,y+h),(255,215,255),5)\n",
    "            face = img[y:y+h,x:x+w,:]\n",
    "            face = cv2.resize(face,(50,50))\n",
    "            face= face.reshape(1,-1)\n",
    "            pred=svm.predict(face)\n",
    "            \n",
    "            n=names[int(pred)]\n",
    "            \n",
    "            cv2.putText(img,n,(x,y),font,1,(244,250,250),3)\n",
    "            if(n=='WITHOUT GLASSES'):\n",
    "                try:\n",
    "                    sound.play()\n",
    "                except: \n",
    "                    isplaying = False\n",
    "                    pass\n",
    "            print(n)\n",
    "            \n",
    "            \n",
    "        cv2.imshow('result',img)\n",
    "            \n",
    "        if cv2.waitKey(2)==27 or len(data) >=200:\n",
    "            break\n",
    "            \n",
    "cv2.destroyAllWindows()\n",
    "capture.release()"
   ]
  },
  {
   "cell_type": "code",
   "execution_count": null,
   "id": "269c010b",
   "metadata": {},
   "outputs": [],
   "source": []
  }
 ],
 "metadata": {
  "kernelspec": {
   "display_name": "Python 3 (ipykernel)",
   "language": "python",
   "name": "python3"
  },
  "language_info": {
   "codemirror_mode": {
    "name": "ipython",
    "version": 3
   },
   "file_extension": ".py",
   "mimetype": "text/x-python",
   "name": "python",
   "nbconvert_exporter": "python",
   "pygments_lexer": "ipython3",
   "version": "3.10.9"
  }
 },
 "nbformat": 4,
 "nbformat_minor": 5
}
