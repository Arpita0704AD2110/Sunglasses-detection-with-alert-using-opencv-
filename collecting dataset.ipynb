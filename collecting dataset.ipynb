{
 "cells": [
  {
   "cell_type": "code",
   "execution_count": null,
   "id": "d86f70cf",
   "metadata": {},
   "outputs": [],
   "source": [
    "import cv2"
   ]
  },
  {
   "cell_type": "code",
   "execution_count": null,
   "id": "67c44d64",
   "metadata": {},
   "outputs": [],
   "source": [
    "face_clsfr=cv2.CascadeClassifier('haarcascade_frontalface_default.xml')"
   ]
  },
  {
   "cell_type": "code",
   "execution_count": null,
   "id": "18fea637",
   "metadata": {},
   "outputs": [],
   "source": [
    "capture=cv2.VideoCapture(0)\n",
    "data=[]\n",
    "while True:\n",
    "    flag,img=capture.read()\n",
    "    \n",
    "    if flag:\n",
    "        faces=face_clsfr.detectMultiScale(img)\n",
    "        \n",
    "        for x,y,w,h in faces:\n",
    "            cv2.rectangle(img,(x,y),(x+w,y+h),(255,215,255),5)\n",
    "            face = img[y:y+h,x:x+w,:]\n",
    "            face = cv2.resize(face,(50,50))\n",
    "            print(len(data))\n",
    "            \n",
    "            if len(data) < 400:\n",
    "                data.append(face)\n",
    "        cv2.imshow('result',img)\n",
    "            \n",
    "        if cv2.waitKey(2)==27 or len(data) >=200:\n",
    "            break\n",
    "capture.release()\n",
    "cv2.destroyAllWindows()"
   ]
  },
  {
   "cell_type": "code",
   "execution_count": null,
   "id": "b7399355",
   "metadata": {},
   "outputs": [],
   "source": [
    "import numpy as np\n",
    "np.save('without_glasses.npy',data)"
   ]
  },
  {
   "cell_type": "code",
   "execution_count": null,
   "id": "ba056df6",
   "metadata": {},
   "outputs": [],
   "source": [
    "import matplotlib.pyplot as plt\n",
    "plt.imshow(data[0])"
   ]
  },
  {
   "cell_type": "code",
   "execution_count": null,
   "id": "fe1ef6d6",
   "metadata": {},
   "outputs": [],
   "source": [
    "capture=cv2.VideoCapture(0)\n",
    "data=[]\n",
    "while True:\n",
    "    flag,img=capture.read()\n",
    "    \n",
    "    if flag:\n",
    "        faces=face_clsfr.detectMultiScale(img)\n",
    "        \n",
    "        for x,y,w,h in faces:\n",
    "            cv2.rectangle(img,(x,y),(x+w,y+h),(255,215,255),5)\n",
    "            face = img[y:y+h,x:x+w,:]\n",
    "            face = cv2.resize(face,(50,50))\n",
    "            print(len(data))\n",
    "            \n",
    "            if len(data) < 400:\n",
    "                data.append(face)\n",
    "        cv2.imshow('result',img)\n",
    "            \n",
    "        if cv2.waitKey(2)==27 or len(data) >=200:\n",
    "            break\n",
    "capture.release()\n",
    "cv2.destroyAllWindows()"
   ]
  },
  {
   "cell_type": "code",
   "execution_count": null,
   "id": "5656eeb4",
   "metadata": {},
   "outputs": [],
   "source": [
    "import numpy as np\n",
    "np.save('with_glasses.npy',data)"
   ]
  },
  {
   "cell_type": "code",
   "execution_count": null,
   "id": "001f95d0",
   "metadata": {},
   "outputs": [],
   "source": [
    "import matplotlib.pyplot as plt\n",
    "plt.imshow(data[0])"
   ]
  },
  {
   "cell_type": "code",
   "execution_count": null,
   "id": "d0b4e4f5",
   "metadata": {},
   "outputs": [],
   "source": []
  }
 ],
 "metadata": {
  "kernelspec": {
   "display_name": "Python 3 (ipykernel)",
   "language": "python",
   "name": "python3"
  },
  "language_info": {
   "codemirror_mode": {
    "name": "ipython",
    "version": 3
   },
   "file_extension": ".py",
   "mimetype": "text/x-python",
   "name": "python",
   "nbconvert_exporter": "python",
   "pygments_lexer": "ipython3",
   "version": "3.10.9"
  }
 },
 "nbformat": 4,
 "nbformat_minor": 5
}
